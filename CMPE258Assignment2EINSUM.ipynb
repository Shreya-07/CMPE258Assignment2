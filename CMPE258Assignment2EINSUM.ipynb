{
  "nbformat": 4,
  "nbformat_minor": 0,
  "metadata": {
    "colab": {
      "name": "CMPE258Assignment2EINSUM.ipynb",
      "provenance": [],
      "toc_visible": true,
      "authorship_tag": "ABX9TyNn9QMMGmWHFOKF8We3zLWv",
      "include_colab_link": true
    },
    "kernelspec": {
      "name": "python3",
      "display_name": "Python 3"
    },
    "language_info": {
      "name": "python"
    }
  },
  "cells": [
    {
      "cell_type": "markdown",
      "metadata": {
        "id": "view-in-github",
        "colab_type": "text"
      },
      "source": [
        "<a href=\"https://colab.research.google.com/github/Shreya-07/CMPE258Assignment2/blob/main/CMPE258Assignment2EINSUM.ipynb\" target=\"_parent\"><img src=\"https://colab.research.google.com/assets/colab-badge.svg\" alt=\"Open In Colab\"/></a>"
      ]
    },
    {
      "cell_type": "markdown",
      "source": [
        "**EINSUM**"
      ],
      "metadata": {
        "id": "B0p4PKOflJoH"
      }
    },
    {
      "cell_type": "code",
      "source": [
        "import torch"
      ],
      "metadata": {
        "id": "yUoDB4bqlEZm"
      },
      "execution_count": 1,
      "outputs": []
    },
    {
      "cell_type": "code",
      "source": [
        "X = torch.rand((2,3))"
      ],
      "metadata": {
        "id": "B2dMm_iOlBT8"
      },
      "execution_count": 2,
      "outputs": []
    },
    {
      "cell_type": "code",
      "source": [
        "#Permutaation of Tensors\n",
        "torch.einsum(\"ij->ji\",X)"
      ],
      "metadata": {
        "colab": {
          "base_uri": "https://localhost:8080/"
        },
        "id": "Ulb8z3_j5GXC",
        "outputId": "b515bceb-1750-40a1-bc2e-d4034943c037"
      },
      "execution_count": 3,
      "outputs": [
        {
          "output_type": "execute_result",
          "data": {
            "text/plain": [
              "tensor([[0.9048, 0.4566],\n",
              "        [0.5145, 0.2110],\n",
              "        [0.5723, 0.4314]])"
            ]
          },
          "metadata": {},
          "execution_count": 3
        }
      ]
    },
    {
      "cell_type": "code",
      "source": [
        "#summation\n",
        "torch.einsum(\"ij->\",X)"
      ],
      "metadata": {
        "colab": {
          "base_uri": "https://localhost:8080/"
        },
        "id": "Mpq4wwR55Q2n",
        "outputId": "c055f74a-99f4-4904-b9ab-128e2caa11d9"
      },
      "execution_count": 4,
      "outputs": [
        {
          "output_type": "execute_result",
          "data": {
            "text/plain": [
              "tensor(3.0906)"
            ]
          },
          "metadata": {},
          "execution_count": 4
        }
      ]
    },
    {
      "cell_type": "code",
      "source": [
        "#column sum\n",
        "torch.einsum(\"ij->j\",X)"
      ],
      "metadata": {
        "colab": {
          "base_uri": "https://localhost:8080/"
        },
        "id": "XeJKSTaa5ZYh",
        "outputId": "5e9ecbf7-9e3a-43d4-df67-966d3b181878"
      },
      "execution_count": 5,
      "outputs": [
        {
          "output_type": "execute_result",
          "data": {
            "text/plain": [
              "tensor([1.3613, 0.7255, 1.0038])"
            ]
          },
          "metadata": {},
          "execution_count": 5
        }
      ]
    },
    {
      "cell_type": "code",
      "source": [
        "#row sum\n",
        "torch.einsum(\"ij->i\",X)"
      ],
      "metadata": {
        "colab": {
          "base_uri": "https://localhost:8080/"
        },
        "id": "g6rwnZUt6T8t",
        "outputId": "602e4264-5eda-4e2a-af76-b834328a8e0f"
      },
      "execution_count": 6,
      "outputs": [
        {
          "output_type": "execute_result",
          "data": {
            "text/plain": [
              "tensor([1.9916, 1.0990])"
            ]
          },
          "metadata": {},
          "execution_count": 6
        }
      ]
    },
    {
      "cell_type": "code",
      "source": [
        "#Matrix-Vector Multiplication\n",
        "v = torch.rand((1,3))\n",
        "torch.einsum(\"ij, kj->ik\", X, v)"
      ],
      "metadata": {
        "colab": {
          "base_uri": "https://localhost:8080/"
        },
        "id": "Qlka8jdH8BLS",
        "outputId": "6ab15f32-e333-4811-8f20-1c332ec7a0ec"
      },
      "execution_count": 7,
      "outputs": [
        {
          "output_type": "execute_result",
          "data": {
            "text/plain": [
              "tensor([[1.0330],\n",
              "        [0.5951]])"
            ]
          },
          "metadata": {},
          "execution_count": 7
        }
      ]
    },
    {
      "cell_type": "code",
      "source": [
        "#Matrix Matrix Multiplication\n",
        "torch.einsum(\"ij, kj->ik\", X, X)"
      ],
      "metadata": {
        "colab": {
          "base_uri": "https://localhost:8080/"
        },
        "id": "jisWrlxC8VoQ",
        "outputId": "abb1b831-ff0a-4a94-b081-bffe9be09984"
      },
      "execution_count": 8,
      "outputs": [
        {
          "output_type": "execute_result",
          "data": {
            "text/plain": [
              "tensor([[1.4109, 0.7686],\n",
              "        [0.7686, 0.4391]])"
            ]
          },
          "metadata": {},
          "execution_count": 8
        }
      ]
    },
    {
      "cell_type": "code",
      "source": [
        "#Dot Product\n",
        "torch.einsum(\"i, i->\", X[0], X[0])"
      ],
      "metadata": {
        "colab": {
          "base_uri": "https://localhost:8080/"
        },
        "id": "zsWa7X8s8ZGL",
        "outputId": "7fe851b6-78e2-47d0-8917-d4864490dd99"
      },
      "execution_count": 9,
      "outputs": [
        {
          "output_type": "execute_result",
          "data": {
            "text/plain": [
              "tensor(1.4109)"
            ]
          },
          "metadata": {},
          "execution_count": 9
        }
      ]
    },
    {
      "cell_type": "code",
      "source": [
        "#Dot product with Matrix\n",
        "torch.einsum(\"ij, ij->\", X, X)"
      ],
      "metadata": {
        "colab": {
          "base_uri": "https://localhost:8080/"
        },
        "id": "oNNZIdts8cws",
        "outputId": "ae63d431-abe2-4a1a-95cf-442ddc821747"
      },
      "execution_count": 10,
      "outputs": [
        {
          "output_type": "execute_result",
          "data": {
            "text/plain": [
              "tensor(1.8500)"
            ]
          },
          "metadata": {},
          "execution_count": 10
        }
      ]
    },
    {
      "cell_type": "code",
      "source": [
        "#Hadamard Product (element-wise multiplication)\n",
        "torch.einsum(\"ij, ij->ij\", X, X)"
      ],
      "metadata": {
        "colab": {
          "base_uri": "https://localhost:8080/"
        },
        "id": "R-SS-9_M9CcY",
        "outputId": "42779935-3a3f-4470-a3eb-fcf0f0c4a1dd"
      },
      "execution_count": 11,
      "outputs": [
        {
          "output_type": "execute_result",
          "data": {
            "text/plain": [
              "tensor([[0.8186, 0.2647, 0.3276],\n",
              "        [0.2085, 0.0445, 0.1861]])"
            ]
          },
          "metadata": {},
          "execution_count": 11
        }
      ]
    },
    {
      "cell_type": "code",
      "source": [
        "#outer product\n",
        "a = torch.rand((3))\n",
        "b = torch.rand((5))\n",
        "torch.einsum(\"i, j->ij\", a, b)"
      ],
      "metadata": {
        "colab": {
          "base_uri": "https://localhost:8080/"
        },
        "id": "JswMguEv9hmO",
        "outputId": "e1943114-eaa6-4471-bb06-2c6428ab593d"
      },
      "execution_count": 12,
      "outputs": [
        {
          "output_type": "execute_result",
          "data": {
            "text/plain": [
              "tensor([[0.2094, 0.7763, 0.6017, 0.1908, 0.7521],\n",
              "        [0.0377, 0.1397, 0.1083, 0.0343, 0.1354],\n",
              "        [0.0235, 0.0871, 0.0675, 0.0214, 0.0844]])"
            ]
          },
          "metadata": {},
          "execution_count": 12
        }
      ]
    },
    {
      "cell_type": "code",
      "source": [
        "#Batch Matrix Multiplication\n",
        "a = torch.rand((3, 2, 5))\n",
        "b = torch.rand((3, 5, 3))\n",
        "torch.einsum(\"ijk, ikl->ijl\", a, b)"
      ],
      "metadata": {
        "colab": {
          "base_uri": "https://localhost:8080/"
        },
        "id": "ohUQSvEcAXpz",
        "outputId": "5266ec7f-05b8-4c09-9b5b-87596caa9e1f"
      },
      "execution_count": 13,
      "outputs": [
        {
          "output_type": "execute_result",
          "data": {
            "text/plain": [
              "tensor([[[2.2562, 2.1845, 0.6661],\n",
              "         [1.3852, 1.3782, 0.5111]],\n",
              "\n",
              "        [[1.1636, 0.9135, 1.5548],\n",
              "         [0.7460, 1.0311, 0.6056]],\n",
              "\n",
              "        [[1.2949, 1.3523, 1.0572],\n",
              "         [0.8837, 1.0219, 0.8265]]])"
            ]
          },
          "metadata": {},
          "execution_count": 13
        }
      ]
    },
    {
      "cell_type": "code",
      "source": [
        "#Matrix Diagonal\n",
        "X = torch.rand((3, 3))\n",
        "torch.einsum(\"ii->i\", X)"
      ],
      "metadata": {
        "colab": {
          "base_uri": "https://localhost:8080/"
        },
        "id": "2_PT67rNAajT",
        "outputId": "02f7980c-396a-43e5-d460-2d84a93711ce"
      },
      "execution_count": 14,
      "outputs": [
        {
          "output_type": "execute_result",
          "data": {
            "text/plain": [
              "tensor([0.2290, 0.4548, 0.4786])"
            ]
          },
          "metadata": {},
          "execution_count": 14
        }
      ]
    },
    {
      "cell_type": "code",
      "source": [
        "#Matrix Trace\n",
        "torch.einsum(\"ii->\", X)"
      ],
      "metadata": {
        "colab": {
          "base_uri": "https://localhost:8080/"
        },
        "id": "kQusXGaCBXAE",
        "outputId": "27c5562a-d13e-4d6b-df8b-b394871b89ad"
      },
      "execution_count": 15,
      "outputs": [
        {
          "output_type": "execute_result",
          "data": {
            "text/plain": [
              "tensor(1.1624)"
            ]
          },
          "metadata": {},
          "execution_count": 15
        }
      ]
    }
  ]
}