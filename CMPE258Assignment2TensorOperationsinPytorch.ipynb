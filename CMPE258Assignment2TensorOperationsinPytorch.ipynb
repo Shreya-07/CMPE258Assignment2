{
  "nbformat": 4,
  "nbformat_minor": 0,
  "metadata": {
    "colab": {
      "name": "CMPE258Assignment2TensorOperationsinPytorch.ipynb",
      "provenance": [],
      "toc_visible": true,
      "authorship_tag": "ABX9TyOyJco6qZsSkQLNb/m1n89o",
      "include_colab_link": true
    },
    "kernelspec": {
      "name": "python3",
      "display_name": "Python 3"
    },
    "language_info": {
      "name": "python"
    }
  },
  "cells": [
    {
      "cell_type": "markdown",
      "metadata": {
        "id": "view-in-github",
        "colab_type": "text"
      },
      "source": [
        "<a href=\"https://colab.research.google.com/github/Shreya-07/CMPE258Assignment2/blob/main/CMPE258Assignment2TensorOperationsinPytorch.ipynb\" target=\"_parent\"><img src=\"https://colab.research.google.com/assets/colab-badge.svg\" alt=\"Open In Colab\"/></a>"
      ]
    },
    {
      "cell_type": "markdown",
      "source": [
        "**TENSOR OPERATIONS IN PYTORCHt**"
      ],
      "metadata": {
        "id": "SA9loXZklcib"
      }
    },
    {
      "cell_type": "markdown",
      "source": [
        "**Creating an empty Tensor**"
      ],
      "metadata": {
        "id": "mmRuAVzIp9nv"
      }
    },
    {
      "cell_type": "code",
      "source": [
        "import torch"
      ],
      "metadata": {
        "id": "iCUJAdlgljD4"
      },
      "execution_count": 2,
      "outputs": []
    },
    {
      "cell_type": "code",
      "source": [
        "x = torch.empty(2,3)\n",
        "print(x)"
      ],
      "metadata": {
        "colab": {
          "base_uri": "https://localhost:8080/"
        },
        "id": "U0RPUlatsJcI",
        "outputId": "5c05c01e-44f7-4d4b-bc06-13828faae1dc"
      },
      "execution_count": 3,
      "outputs": [
        {
          "output_type": "stream",
          "name": "stdout",
          "text": [
            "tensor([[-1.8604e+06,  3.0617e-41,  3.3631e-44],\n",
            "        [ 0.0000e+00,         nan,  3.0617e-41]])\n"
          ]
        }
      ]
    },
    {
      "cell_type": "markdown",
      "source": [
        "**Creating tensors with random values**"
      ],
      "metadata": {
        "id": "7bAAp2rDsjul"
      }
    },
    {
      "cell_type": "code",
      "source": [
        "x = torch.rand(2,3)\n",
        "print(x)"
      ],
      "metadata": {
        "colab": {
          "base_uri": "https://localhost:8080/"
        },
        "id": "DbBUCRcVtDYL",
        "outputId": "e71fd66c-6d9f-4a61-9607-d10ae0ddac87"
      },
      "execution_count": 4,
      "outputs": [
        {
          "output_type": "stream",
          "name": "stdout",
          "text": [
            "tensor([[0.6199, 0.1085, 0.6299],\n",
            "        [0.6018, 0.5806, 0.0661]])\n"
          ]
        }
      ]
    },
    {
      "cell_type": "markdown",
      "source": [
        "**creating tensors with values as zeors or ones**"
      ],
      "metadata": {
        "id": "D0MbwNczs4js"
      }
    },
    {
      "cell_type": "code",
      "source": [
        "x = torch.zeros(2,2)\n",
        "print(x)"
      ],
      "metadata": {
        "colab": {
          "base_uri": "https://localhost:8080/"
        },
        "id": "QoeQXBKWs-Ql",
        "outputId": "40d18566-c83d-429b-da55-943dc629e14a"
      },
      "execution_count": 5,
      "outputs": [
        {
          "output_type": "stream",
          "name": "stdout",
          "text": [
            "tensor([[0., 0.],\n",
            "        [0., 0.]])\n"
          ]
        }
      ]
    },
    {
      "cell_type": "code",
      "source": [
        "x = torch.ones(2,2)\n",
        "print(x)"
      ],
      "metadata": {
        "colab": {
          "base_uri": "https://localhost:8080/"
        },
        "id": "e9dNnw7ltIUU",
        "outputId": "398125bd-80c2-4f48-a3ea-691cdbe3e029"
      },
      "execution_count": 6,
      "outputs": [
        {
          "output_type": "stream",
          "name": "stdout",
          "text": [
            "tensor([[1., 1.],\n",
            "        [1., 1.]])\n"
          ]
        }
      ]
    },
    {
      "cell_type": "markdown",
      "source": [
        "**Creation of tensors for performing various operations**"
      ],
      "metadata": {
        "id": "XSBIgJ6Bt2vm"
      }
    },
    {
      "cell_type": "code",
      "source": [
        "x = torch.rand(2,2)\n",
        "y = torch.rand(2,2)\n",
        "print(x)\n",
        "print(y)"
      ],
      "metadata": {
        "colab": {
          "base_uri": "https://localhost:8080/"
        },
        "id": "z9FASpEjuHMR",
        "outputId": "17e9d236-2d8d-443b-e184-50ed1c57e043"
      },
      "execution_count": 7,
      "outputs": [
        {
          "output_type": "stream",
          "name": "stdout",
          "text": [
            "tensor([[0.0585, 0.0215],\n",
            "        [0.5262, 0.5246]])\n",
            "tensor([[0.8943, 0.5567],\n",
            "        [0.4087, 0.7030]])\n"
          ]
        }
      ]
    },
    {
      "cell_type": "markdown",
      "source": [
        "**summation of tensors**"
      ],
      "metadata": {
        "id": "ak9omZjbuSKk"
      }
    },
    {
      "cell_type": "code",
      "source": [
        "z = x+y\n",
        "print(z)"
      ],
      "metadata": {
        "colab": {
          "base_uri": "https://localhost:8080/"
        },
        "id": "fdoQSZ02uVzb",
        "outputId": "4d2d42e5-ede9-4fd2-c696-2751a420fac3"
      },
      "execution_count": 8,
      "outputs": [
        {
          "output_type": "stream",
          "name": "stdout",
          "text": [
            "tensor([[0.9528, 0.5783],\n",
            "        [0.9349, 1.2276]])\n"
          ]
        }
      ]
    },
    {
      "cell_type": "markdown",
      "source": [
        "**subtraction of tensors**"
      ],
      "metadata": {
        "id": "GIZavZkHugTA"
      }
    },
    {
      "cell_type": "code",
      "source": [
        "z = torch.sub(x,y)\n",
        "print(z)"
      ],
      "metadata": {
        "colab": {
          "base_uri": "https://localhost:8080/"
        },
        "id": "Z1ZGozJavHve",
        "outputId": "aa1f7ad8-a4e9-4e87-9b37-e509894ad3e8"
      },
      "execution_count": 9,
      "outputs": [
        {
          "output_type": "stream",
          "name": "stdout",
          "text": [
            "tensor([[-0.8358, -0.5352],\n",
            "        [ 0.1175, -0.1784]])\n"
          ]
        }
      ]
    },
    {
      "cell_type": "markdown",
      "source": [
        "**Multiplication of tensors**"
      ],
      "metadata": {
        "id": "LZJwRWpqu_hM"
      }
    },
    {
      "cell_type": "code",
      "source": [
        "z = torch.mul(x,y)\n",
        "print(z)"
      ],
      "metadata": {
        "colab": {
          "base_uri": "https://localhost:8080/"
        },
        "id": "KncVeOGsvRGr",
        "outputId": "657c139f-06da-4fb8-fec0-af41df8ba5eb"
      },
      "execution_count": 10,
      "outputs": [
        {
          "output_type": "stream",
          "name": "stdout",
          "text": [
            "tensor([[0.0523, 0.0120],\n",
            "        [0.2150, 0.3688]])\n"
          ]
        }
      ]
    },
    {
      "cell_type": "markdown",
      "source": [
        "**Division of tensors**"
      ],
      "metadata": {
        "id": "60O-01OGvDyY"
      }
    },
    {
      "cell_type": "code",
      "source": [
        "z = torch.div(x,y)\n",
        "print(z)"
      ],
      "metadata": {
        "colab": {
          "base_uri": "https://localhost:8080/"
        },
        "id": "rbmVq1k3ue-K",
        "outputId": "fea94479-e88d-4ed2-9963-79d854761ce3"
      },
      "execution_count": 11,
      "outputs": [
        {
          "output_type": "stream",
          "name": "stdout",
          "text": [
            "tensor([[0.0654, 0.0387],\n",
            "        [1.2874, 0.7463]])\n"
          ]
        }
      ]
    },
    {
      "cell_type": "markdown",
      "source": [
        "**Slicing Operation**"
      ],
      "metadata": {
        "id": "e5IKu6iuvhRV"
      }
    },
    {
      "cell_type": "code",
      "source": [
        "x = torch.rand(5,3)\n",
        "print(x)\n",
        "print(x[:,1])\n",
        "print(x[1,:])\n",
        "print(x[1,1])\n",
        "print(x[1,1].item())"
      ],
      "metadata": {
        "colab": {
          "base_uri": "https://localhost:8080/"
        },
        "id": "g-CA8lK4wAu6",
        "outputId": "95d288a5-1737-4006-a332-9639d05bbac6"
      },
      "execution_count": 12,
      "outputs": [
        {
          "output_type": "stream",
          "name": "stdout",
          "text": [
            "tensor([[0.9898, 0.5107, 0.1683],\n",
            "        [0.5134, 0.3599, 0.5960],\n",
            "        [0.0383, 0.5340, 0.8466],\n",
            "        [0.5366, 0.4085, 0.2253],\n",
            "        [0.4953, 0.5239, 0.0198]])\n",
            "tensor([0.5107, 0.3599, 0.5340, 0.4085, 0.5239])\n",
            "tensor([0.5134, 0.3599, 0.5960])\n",
            "tensor(0.3599)\n",
            "0.3598911762237549\n"
          ]
        }
      ]
    },
    {
      "cell_type": "markdown",
      "source": [
        "**Reshaping a tensor**"
      ],
      "metadata": {
        "id": "hnWyH-tzv9bq"
      }
    },
    {
      "cell_type": "code",
      "source": [
        "x = torch.rand(4,4)\n",
        "print(x)\n",
        "y = x.view(16)\n",
        "print(y)"
      ],
      "metadata": {
        "colab": {
          "base_uri": "https://localhost:8080/"
        },
        "id": "C0mzOLB2wjmo",
        "outputId": "147c84de-38d1-4713-df95-d669726ef58a"
      },
      "execution_count": 13,
      "outputs": [
        {
          "output_type": "stream",
          "name": "stdout",
          "text": [
            "tensor([[0.4620, 0.7660, 0.5909, 0.5304],\n",
            "        [0.4990, 0.1300, 0.5260, 0.9382],\n",
            "        [0.7761, 0.4222, 0.9340, 0.2603],\n",
            "        [0.0477, 0.4991, 0.3106, 0.0470]])\n",
            "tensor([0.4620, 0.7660, 0.5909, 0.5304, 0.4990, 0.1300, 0.5260, 0.9382, 0.7761,\n",
            "        0.4222, 0.9340, 0.2603, 0.0477, 0.4991, 0.3106, 0.0470])\n"
          ]
        }
      ]
    },
    {
      "cell_type": "code",
      "source": [
        ""
      ],
      "metadata": {
        "id": "_ncmGHKtxHHl"
      },
      "execution_count": null,
      "outputs": []
    }
  ]
}